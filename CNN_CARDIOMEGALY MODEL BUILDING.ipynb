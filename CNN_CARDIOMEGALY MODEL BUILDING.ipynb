{
 "cells": [
  {
   "cell_type": "code",
   "execution_count": 1,
   "id": "99e05149",
   "metadata": {},
   "outputs": [],
   "source": [
    "import os,cv2\n",
    "import numpy as np\n",
    "from keras.utils import np_utils"
   ]
  },
  {
   "cell_type": "code",
   "execution_count": 2,
   "id": "e8ef75d3",
   "metadata": {},
   "outputs": [],
   "source": [
    "data_path=\"C:/Users/PARCHU/Downloads/cardiomegaly/train\""
   ]
  },
  {
   "cell_type": "code",
   "execution_count": 3,
   "id": "0b665e51",
   "metadata": {},
   "outputs": [],
   "source": [
    "categories = os.listdir(data_path)"
   ]
  },
  {
   "cell_type": "code",
   "execution_count": 4,
   "id": "b79be7e0",
   "metadata": {},
   "outputs": [],
   "source": [
    "labels = [i for i in range(len(categories))]"
   ]
  },
  {
   "cell_type": "code",
   "execution_count": 5,
   "id": "e6c6128c",
   "metadata": {},
   "outputs": [],
   "source": [
    "label_dict = dict(zip(categories,labels))"
   ]
  },
  {
   "cell_type": "code",
   "execution_count": 6,
   "id": "02534655",
   "metadata": {},
   "outputs": [
    {
     "name": "stdout",
     "output_type": "stream",
     "text": [
      "['false', 'true']\n",
      "[0, 1]\n",
      "{'false': 0, 'true': 1}\n"
     ]
    }
   ],
   "source": [
    "print(categories)\n",
    "print(labels)\n",
    "print(label_dict)"
   ]
  },
  {
   "cell_type": "code",
   "execution_count": 22,
   "id": "6971a1ff",
   "metadata": {},
   "outputs": [],
   "source": [
    "image_size = 100\n",
    "data = []\n",
    "target = []\n",
    "for category in categories:\n",
    "    folder_path = os.path.join(data_path,category)\n",
    "    image_names = os.listdir(folder_path)\n",
    "    for image_name in image_names:\n",
    "        image_path = os.path.join(folder_path,image_name)\n",
    "        img = cv2.imread(image_path)\n",
    "\n",
    "        try:\n",
    "            gray = cv2.cvtColor(img,cv2.COLOR_BGR2GRAY)\n",
    "            resize = cv2.resize(gray,(image_size,image_size))\n",
    "            data.append(resize)\n",
    "            target.append(label_dict[category])\n",
    "\n",
    "        except Exception as e:\n",
    "            print(\"Exception \",e)"
   ]
  },
  {
   "cell_type": "code",
   "execution_count": 23,
   "id": "6d4b2d69",
   "metadata": {},
   "outputs": [],
   "source": [
    "data=np.array(data)/255.0\n",
    "data=np.reshape(data,(data.shape[0],image_size,image_size,1))\n",
    "target=np.array(target)"
   ]
  },
  {
   "cell_type": "code",
   "execution_count": 24,
   "id": "c2138907",
   "metadata": {},
   "outputs": [],
   "source": [
    "new_target=np_utils.to_categorical(target)"
   ]
  },
  {
   "cell_type": "code",
   "execution_count": 25,
   "id": "c90bc2e2",
   "metadata": {},
   "outputs": [],
   "source": [
    "np.save('data.npy', data)"
   ]
  },
  {
   "cell_type": "code",
   "execution_count": 26,
   "id": "97f745c6",
   "metadata": {},
   "outputs": [],
   "source": [
    "np.save('target.npy', target)"
   ]
  },
  {
   "cell_type": "code",
   "execution_count": 27,
   "id": "fe91443d",
   "metadata": {},
   "outputs": [],
   "source": [
    "import numpy as np\n",
    "from tensorflow.python.keras.models import Sequential\n",
    "from tensorflow.python.keras.layers import Dense,Dropout,Activation,Flatten\n",
    "from tensorflow.python.keras.layers import Conv2D,MaxPooling2D\n",
    "from tensorflow.python.keras.callbacks import ModelCheckpoint\n",
    "from tensorflow.python.keras.optimizers import TFOptimizer\n",
    "from tensorflow.python.keras.models import load_model\n",
    "data=np.load('data.npy')\n",
    "target=np.load('target.npy')"
   ]
  },
  {
   "cell_type": "code",
   "execution_count": 28,
   "id": "47ee086f",
   "metadata": {},
   "outputs": [],
   "source": [
    "model=Sequential()\n",
    "model.add(Conv2D(200,(3,3),input_shape=data.shape[1:]))\n",
    "model.add(Activation('relu'))\n",
    "model.add(MaxPooling2D(pool_size=(2,2)))\n",
    "model.add(Conv2D(100,(3,3)))\n",
    "model.add(Activation('relu'))\n",
    "model.add(MaxPooling2D(pool_size=(2,2)))\n",
    "model.add(Flatten())\n",
    "model.add(Dropout(0.5))\n",
    "model.add(Dense(50,activation='relu'))\n",
    "model.add(Dense(2,activation='softmax'))\n",
    "model.compile(loss='sparse_categorical_crossentropy',optimizer='adam',metrics=['accuracy'])"
   ]
  },
  {
   "cell_type": "code",
   "execution_count": 29,
   "id": "17ab43e1",
   "metadata": {},
   "outputs": [],
   "source": [
    "from sklearn.model_selection import train_test_split\n",
    "train_data,test_data,train_target,test_target=train_test_split(data,target,test_size=0.2)"
   ]
  },
  {
   "cell_type": "code",
   "execution_count": 30,
   "id": "3c2c2287",
   "metadata": {},
   "outputs": [
    {
     "name": "stdout",
     "output_type": "stream",
     "text": [
      "Epoch 1/5\n",
      "89/89 [==============================] - 215s 2s/step - loss: 0.7016 - accuracy: 0.5377 - val_loss: 0.6642 - val_accuracy: 0.6141\n",
      "INFO:tensorflow:Assets written to: model-001.model\\assets\n",
      "Epoch 2/5\n",
      "89/89 [==============================] - 183s 2s/step - loss: 0.6431 - accuracy: 0.6222 - val_loss: 0.6214 - val_accuracy: 0.6451\n",
      "INFO:tensorflow:Assets written to: model-002.model\\assets\n",
      "Epoch 3/5\n",
      "89/89 [==============================] - 182s 2s/step - loss: 0.6111 - accuracy: 0.6658 - val_loss: 0.6256 - val_accuracy: 0.6437\n",
      "Epoch 4/5\n",
      "89/89 [==============================] - 180s 2s/step - loss: 0.6094 - accuracy: 0.6528 - val_loss: 0.5882 - val_accuracy: 0.6803\n",
      "INFO:tensorflow:Assets written to: model-004.model\\assets\n",
      "Epoch 5/5\n",
      "89/89 [==============================] - 185s 2s/step - loss: 0.5826 - accuracy: 0.6838 - val_loss: 0.5838 - val_accuracy: 0.6930\n",
      "INFO:tensorflow:Assets written to: model-005.model\\assets\n"
     ]
    }
   ],
   "source": [
    "checkpoint = ModelCheckpoint('model-{epoch:03d}.model',monitor='val_loss',verbose=0,save_best_only=True,mode='auto')\n",
    "history=model.fit(train_data,train_target,epochs=5,callbacks=[checkpoint],validation_split=0.2)"
   ]
  },
  {
   "cell_type": "code",
   "execution_count": 31,
   "id": "a8a724b0",
   "metadata": {},
   "outputs": [
    {
     "data": {
      "image/png": "[encoded data removed]",
      "text/plain": [
       "<Figure size 432x288 with 1 Axes>"
      ]
     },
     "metadata": {
      "needs_background": "light"
     },
     "output_type": "display_data"
    }
   ],
   "source": [
    "from matplotlib import pyplot as plt\n",
    "plt.plot(history.history['loss'],'r',label='training loss')\n",
    "plt.plot(history.history['val_loss'],label='validation loss')\n",
    "plt.xlabel('# epochs')\n",
    "plt.ylabel('loss')\n",
    "plt.legend()\n",
    "plt.show()"
   ]
  },
  {
   "cell_type": "code",
   "execution_count": 32,
   "id": "5f3fe49b",
   "metadata": {},
   "outputs": [
    {
     "data": {
      "image/png": "[encoded data removed]",
      "text/plain": [
       "<Figure size 432x288 with 1 Axes>"
      ]
     },
     "metadata": {
      "needs_background": "light"
     },
     "output_type": "display_data"
    }
   ],
   "source": [
    "plt.plot(history.history['accuracy'],'r',label='training accuracy')\n",
    "plt.plot(history.history['val_accuracy'],label='validation accuracy')\n",
    "plt.xlabel('# epochs')\n",
    "plt.ylabel('loss')\n",
    "plt.legend()\n",
    "plt.show()"
   ]
  },
  {
   "cell_type": "code",
   "execution_count": 33,
   "id": "ad998ac7",
   "metadata": {},
   "outputs": [],
   "source": [
    "from tensorflow.python.keras.models import load_model\n",
    "import os\n",
    "import cv2\n",
    "import numpy as np"
   ]
  },
  {
   "cell_type": "code",
   "execution_count": null,
   "id": "18790108",
   "metadata": {},
   "outputs": [],
   "source": [
    "model = load_model('model-005.model')\n",
    "source='C:/Users/PARCHU/Downloads/cardiomegaly/train/true/2184'\n",
    "labels_dict={0:'FALSE',1:'TRUE'}\n"
   ]
  },
  {
   "cell_type": "code",
   "execution_count": null,
   "id": "95e1704c",
   "metadata": {},
   "outputs": [],
   "source": [
    "while(True):\n",
    "\n",
    "    ret,img=source.read()\n",
    "    gray=cv2.cvtColor(img,cv2.COLOR_BGR2GRAY)\n",
    "    faces = face_clsfr.detectMultiScale(\n",
    "        gray,\n",
    "        scaleFactor=1.1,\n",
    "        \n",
    "    )   \n",
    "\n",
    "    for (x,y,w,h) in faces:\n",
    "    \n",
    "        face_img=gray[y:y+w,x:x+w]\n",
    "        resized=cv2.resize(face_img,(100,100))\n",
    "        normalized=resized/255.0\n",
    "        reshaped=np.reshape(normalized,(1,100,100,1))\n",
    "        result=model.predict(reshaped)\n",
    "\n",
    "        label=np.argmax(result,axis=1)[0]\n",
    "      \n",
    "        cv2.rectangle(img,(x,y),(x+w,y+h),color_dict[label],2)\n",
    "        cv2.rectangle(img,(x,y-40),(x+w,y),color_dict[label],-1)\n",
    "        cv2.putText(img, labels_dict[label], (x, y-10),cv2.FONT_HERSHEY_SIMPLEX,0.8,(255,255,255),2)\n",
    "        \n",
    "        \n",
    "    cv2.imshow('Face Detection',img)\n",
    "    key=cv2.waitKey(1)\n",
    "    \n",
    "    if(key==27):\n",
    "        break\n",
    "        \n",
    "cv2.destroyAllWindows()\n",
    "source.release()"
   ]
  }
 ],
 "metadata": {
  "kernelspec": {
   "display_name": "Python 3 (ipykernel)",
   "language": "python",
   "name": "python3"
  },
  "language_info": {
   "codemirror_mode": {
    "name": "ipython",
    "version": 3
   },
   "file_extension": ".py",
   "mimetype": "text/x-python",
   "name": "python",
   "nbconvert_exporter": "python",
   "pygments_lexer": "ipython3",
   "version": "3.9.7"
  }
 },
 "nbformat": 4,
 "nbformat_minor": 5
}
